{
 "cells": [
  {
   "cell_type": "markdown",
   "metadata": {},
   "source": [
    "## Objective"
   ]
  },
  {
   "cell_type": "markdown",
   "metadata": {},
   "source": [
    "(Gene, Variation, Text)[INPUT] ---- > [ML model] ----> [OUTPUT](Cancer type label)\n",
    "\n"
   ]
  },
  {
   "cell_type": "markdown",
   "metadata": {},
   "source": [
    "* No low-latency requirement.\n",
    "* Interpretability is important. (To know reaon of cancer)\n",
    "* Errors can be very costly.\n",
    "* Probability of a data-point belonging to each class is needed.\n",
    "* There are nine different classes a genetic mutation  => Multi class classification problem\n",
    "* Since output are based on probabilities -- > Log Loss and Confusion Matrix "
   ]
  },
  {
   "cell_type": "code",
   "execution_count": 1,
   "metadata": {},
   "outputs": [],
   "source": [
    "import pandas as pd\n",
    "import numpy as np\n",
    "import matplotlib.pyplot as plt\n",
    "import seaborn as sns\n",
    "import warnings   # to ignore the various warning poping up while block execution\n",
    "warnings.filterwarnings('ignore')"
   ]
  },
  {
   "cell_type": "markdown",
   "metadata": {},
   "source": [
    "## Reading Data from CSV files"
   ]
  },
  {
   "cell_type": "code",
   "execution_count": 2,
   "metadata": {},
   "outputs": [
    {
     "name": "stdout",
     "output_type": "stream",
     "text": [
      "   ID    Gene             Variation  Class\n",
      "0   0  FAM58A  Truncating Mutations      1\n",
      "1   1     CBL                 W802*      2\n",
      "2   2     CBL                 Q249E      2\n",
      "3   3     CBL                 N454D      3\n",
      "4   4     CBL                 L399V      4\n",
      "<class 'pandas.core.frame.DataFrame'>\n",
      "RangeIndex: 3321 entries, 0 to 3320\n",
      "Data columns (total 4 columns):\n",
      "ID           3321 non-null int64\n",
      "Gene         3321 non-null object\n",
      "Variation    3321 non-null object\n",
      "Class        3321 non-null int64\n",
      "dtypes: int64(2), object(2)\n",
      "memory usage: 103.9+ KB\n"
     ]
    }
   ],
   "source": [
    "# Reading  data from the csv files\n",
    "df_variants = pd.read_csv('training_variants')\n",
    "print(df_variants.head())\n",
    "df_variants.info()"
   ]
  },
  {
   "cell_type": "code",
   "execution_count": 3,
   "metadata": {},
   "outputs": [
    {
     "name": "stdout",
     "output_type": "stream",
     "text": [
      "   ID                                               TEXT\n",
      "0   0  Cyclin-dependent kinases (CDKs) regulate a var...\n",
      "1   1   Abstract Background  Non-small cell lung canc...\n",
      "2   2   Abstract Background  Non-small cell lung canc...\n",
      "3   3  Recent evidence has demonstrated that acquired...\n",
      "4   4  Oncogenic mutations in the monomeric Casitas B...\n",
      "<class 'pandas.core.frame.DataFrame'>\n",
      "RangeIndex: 3321 entries, 0 to 3320\n",
      "Data columns (total 2 columns):\n",
      "ID      3321 non-null int64\n",
      "TEXT    3316 non-null object\n",
      "dtypes: int64(1), object(1)\n",
      "memory usage: 52.0+ KB\n"
     ]
    }
   ],
   "source": [
    "df_text =pd.read_csv(\"training_text\",sep=\"\\|\\|\",engine=\"python\",names=[\"ID\",\"TEXT\"],skiprows=1)\n",
    "print(df_text.head())\n",
    "df_text.info()"
   ]
  },
  {
   "cell_type": "markdown",
   "metadata": {},
   "source": [
    "## Dataframe Preprocessing and cleaning"
   ]
  },
  {
   "cell_type": "code",
   "execution_count": 4,
   "metadata": {},
   "outputs": [],
   "source": [
    "from nltk.corpus import stopwords\n",
    "import re # for regular expression\n",
    "import time # to see the execution time of cell, start_time = time.clock(), end_time = time.clock()"
   ]
  },
  {
   "cell_type": "code",
   "execution_count": 5,
   "metadata": {},
   "outputs": [],
   "source": [
    "stop_words = set(stopwords.words(\"english\"))\n",
    "\n",
    "def text_preprocessing(text):\n",
    "    \"\"\"Function to clean the text by using regular exp and removing stopwords\"\"\"\n",
    "    if type(text) == type('a'):\n",
    "        text = re.sub(re.compile(r'[^a-zA-Z0-9\\n]'), \" \", text)  # replacing the special character\n",
    "        text = re.sub(re.compile(r'\\s+'), \" \", text)\n",
    "        text = text.lower()\n",
    "        \n",
    "        clean_text = \"\"\n",
    "        for word in text.split():\n",
    "            if word not in stop_words:\n",
    "                clean_text = clean_text + word + \" \"         \n",
    "        return clean_text"
   ]
  },
  {
   "cell_type": "code",
   "execution_count": 6,
   "metadata": {},
   "outputs": [
    {
     "name": "stdout",
     "output_type": "stream",
     "text": [
      "Time taken to run the block =  166.7357358  secs\n"
     ]
    }
   ],
   "source": [
    "start_time = time.clock()\n",
    "\n",
    "df_text.TEXT = df_text.TEXT.apply(text_preprocessing)\n",
    "\n",
    "end_time = time.clock()\n",
    "print(\"Time taken to run the block = \",end_time-start_time,\" secs\")"
   ]
  },
  {
   "cell_type": "code",
   "execution_count": 7,
   "metadata": {},
   "outputs": [
    {
     "data": {
      "text/html": [
       "<div>\n",
       "<style scoped>\n",
       "    .dataframe tbody tr th:only-of-type {\n",
       "        vertical-align: middle;\n",
       "    }\n",
       "\n",
       "    .dataframe tbody tr th {\n",
       "        vertical-align: top;\n",
       "    }\n",
       "\n",
       "    .dataframe thead th {\n",
       "        text-align: right;\n",
       "    }\n",
       "</style>\n",
       "<table border=\"1\" class=\"dataframe\">\n",
       "  <thead>\n",
       "    <tr style=\"text-align: right;\">\n",
       "      <th></th>\n",
       "      <th>ID</th>\n",
       "      <th>TEXT</th>\n",
       "    </tr>\n",
       "  </thead>\n",
       "  <tbody>\n",
       "    <tr>\n",
       "      <th>0</th>\n",
       "      <td>0</td>\n",
       "      <td>cyclin dependent kinases cdks regulate variety...</td>\n",
       "    </tr>\n",
       "    <tr>\n",
       "      <th>1</th>\n",
       "      <td>1</td>\n",
       "      <td>abstract background non small cell lung cancer...</td>\n",
       "    </tr>\n",
       "    <tr>\n",
       "      <th>2</th>\n",
       "      <td>2</td>\n",
       "      <td>abstract background non small cell lung cancer...</td>\n",
       "    </tr>\n",
       "    <tr>\n",
       "      <th>3</th>\n",
       "      <td>3</td>\n",
       "      <td>recent evidence demonstrated acquired uniparen...</td>\n",
       "    </tr>\n",
       "    <tr>\n",
       "      <th>4</th>\n",
       "      <td>4</td>\n",
       "      <td>oncogenic mutations monomeric casitas b lineag...</td>\n",
       "    </tr>\n",
       "  </tbody>\n",
       "</table>\n",
       "</div>"
      ],
      "text/plain": [
       "   ID                                               TEXT\n",
       "0   0  cyclin dependent kinases cdks regulate variety...\n",
       "1   1  abstract background non small cell lung cancer...\n",
       "2   2  abstract background non small cell lung cancer...\n",
       "3   3  recent evidence demonstrated acquired uniparen...\n",
       "4   4  oncogenic mutations monomeric casitas b lineag..."
      ]
     },
     "execution_count": 7,
     "metadata": {},
     "output_type": "execute_result"
    }
   ],
   "source": [
    "df_text.head()"
   ]
  },
  {
   "cell_type": "code",
   "execution_count": 8,
   "metadata": {},
   "outputs": [],
   "source": [
    "# preprcoessing for df_variants\n",
    "\n",
    "df_variants.Gene = df_variants.Gene.str.replace('\\s+','_')\n",
    "df_variants.Variation = df_variants.Variation.str.replace('\\s+','_')"
   ]
  },
  {
   "cell_type": "code",
   "execution_count": 9,
   "metadata": {},
   "outputs": [
    {
     "data": {
      "text/html": [
       "<div>\n",
       "<style scoped>\n",
       "    .dataframe tbody tr th:only-of-type {\n",
       "        vertical-align: middle;\n",
       "    }\n",
       "\n",
       "    .dataframe tbody tr th {\n",
       "        vertical-align: top;\n",
       "    }\n",
       "\n",
       "    .dataframe thead th {\n",
       "        text-align: right;\n",
       "    }\n",
       "</style>\n",
       "<table border=\"1\" class=\"dataframe\">\n",
       "  <thead>\n",
       "    <tr style=\"text-align: right;\">\n",
       "      <th></th>\n",
       "      <th>ID</th>\n",
       "      <th>Gene</th>\n",
       "      <th>Variation</th>\n",
       "      <th>Class</th>\n",
       "      <th>TEXT</th>\n",
       "    </tr>\n",
       "  </thead>\n",
       "  <tbody>\n",
       "    <tr>\n",
       "      <th>0</th>\n",
       "      <td>0</td>\n",
       "      <td>FAM58A</td>\n",
       "      <td>Truncating_Mutations</td>\n",
       "      <td>1</td>\n",
       "      <td>cyclin dependent kinases cdks regulate variety...</td>\n",
       "    </tr>\n",
       "    <tr>\n",
       "      <th>1</th>\n",
       "      <td>1</td>\n",
       "      <td>CBL</td>\n",
       "      <td>W802*</td>\n",
       "      <td>2</td>\n",
       "      <td>abstract background non small cell lung cancer...</td>\n",
       "    </tr>\n",
       "    <tr>\n",
       "      <th>2</th>\n",
       "      <td>2</td>\n",
       "      <td>CBL</td>\n",
       "      <td>Q249E</td>\n",
       "      <td>2</td>\n",
       "      <td>abstract background non small cell lung cancer...</td>\n",
       "    </tr>\n",
       "    <tr>\n",
       "      <th>3</th>\n",
       "      <td>3</td>\n",
       "      <td>CBL</td>\n",
       "      <td>N454D</td>\n",
       "      <td>3</td>\n",
       "      <td>recent evidence demonstrated acquired uniparen...</td>\n",
       "    </tr>\n",
       "    <tr>\n",
       "      <th>4</th>\n",
       "      <td>4</td>\n",
       "      <td>CBL</td>\n",
       "      <td>L399V</td>\n",
       "      <td>4</td>\n",
       "      <td>oncogenic mutations monomeric casitas b lineag...</td>\n",
       "    </tr>\n",
       "  </tbody>\n",
       "</table>\n",
       "</div>"
      ],
      "text/plain": [
       "   ID    Gene             Variation  Class  \\\n",
       "0   0  FAM58A  Truncating_Mutations      1   \n",
       "1   1     CBL                 W802*      2   \n",
       "2   2     CBL                 Q249E      2   \n",
       "3   3     CBL                 N454D      3   \n",
       "4   4     CBL                 L399V      4   \n",
       "\n",
       "                                                TEXT  \n",
       "0  cyclin dependent kinases cdks regulate variety...  \n",
       "1  abstract background non small cell lung cancer...  \n",
       "2  abstract background non small cell lung cancer...  \n",
       "3  recent evidence demonstrated acquired uniparen...  \n",
       "4  oncogenic mutations monomeric casitas b lineag...  "
      ]
     },
     "execution_count": 9,
     "metadata": {},
     "output_type": "execute_result"
    }
   ],
   "source": [
    "# Merging both  dataframes\n",
    "\n",
    "df = pd.merge(df_variants,df_text,on='ID',how='left')\n",
    "df.head()"
   ]
  },
  {
   "cell_type": "code",
   "execution_count": 10,
   "metadata": {},
   "outputs": [
    {
     "data": {
      "text/html": [
       "<div>\n",
       "<style scoped>\n",
       "    .dataframe tbody tr th:only-of-type {\n",
       "        vertical-align: middle;\n",
       "    }\n",
       "\n",
       "    .dataframe tbody tr th {\n",
       "        vertical-align: top;\n",
       "    }\n",
       "\n",
       "    .dataframe thead th {\n",
       "        text-align: right;\n",
       "    }\n",
       "</style>\n",
       "<table border=\"1\" class=\"dataframe\">\n",
       "  <thead>\n",
       "    <tr style=\"text-align: right;\">\n",
       "      <th></th>\n",
       "      <th>ID</th>\n",
       "      <th>Gene</th>\n",
       "      <th>Variation</th>\n",
       "      <th>Class</th>\n",
       "      <th>TEXT</th>\n",
       "    </tr>\n",
       "  </thead>\n",
       "  <tbody>\n",
       "    <tr>\n",
       "      <th>1109</th>\n",
       "      <td>1109</td>\n",
       "      <td>FANCA</td>\n",
       "      <td>S1088F</td>\n",
       "      <td>1</td>\n",
       "      <td>None</td>\n",
       "    </tr>\n",
       "    <tr>\n",
       "      <th>1277</th>\n",
       "      <td>1277</td>\n",
       "      <td>ARID5B</td>\n",
       "      <td>Truncating_Mutations</td>\n",
       "      <td>1</td>\n",
       "      <td>None</td>\n",
       "    </tr>\n",
       "    <tr>\n",
       "      <th>1407</th>\n",
       "      <td>1407</td>\n",
       "      <td>FGFR3</td>\n",
       "      <td>K508M</td>\n",
       "      <td>6</td>\n",
       "      <td>None</td>\n",
       "    </tr>\n",
       "    <tr>\n",
       "      <th>1639</th>\n",
       "      <td>1639</td>\n",
       "      <td>FLT1</td>\n",
       "      <td>Amplification</td>\n",
       "      <td>6</td>\n",
       "      <td>None</td>\n",
       "    </tr>\n",
       "    <tr>\n",
       "      <th>2755</th>\n",
       "      <td>2755</td>\n",
       "      <td>BRAF</td>\n",
       "      <td>G596C</td>\n",
       "      <td>7</td>\n",
       "      <td>None</td>\n",
       "    </tr>\n",
       "  </tbody>\n",
       "</table>\n",
       "</div>"
      ],
      "text/plain": [
       "        ID    Gene             Variation  Class  TEXT\n",
       "1109  1109   FANCA                S1088F      1  None\n",
       "1277  1277  ARID5B  Truncating_Mutations      1  None\n",
       "1407  1407   FGFR3                 K508M      6  None\n",
       "1639  1639    FLT1         Amplification      6  None\n",
       "2755  2755    BRAF                 G596C      7  None"
      ]
     },
     "execution_count": 10,
     "metadata": {},
     "output_type": "execute_result"
    }
   ],
   "source": [
    "# checking and filling null values of text\n",
    "\n",
    "df[df.isnull().any(axis=1)]"
   ]
  },
  {
   "cell_type": "code",
   "execution_count": 11,
   "metadata": {},
   "outputs": [],
   "source": [
    "# filling the null values with the 'gene + Variation text'\n",
    "df.loc[df['TEXT'].isnull(),'TEXT'] = df['Gene'] +' '+df['Variation']"
   ]
  },
  {
   "cell_type": "code",
   "execution_count": 12,
   "metadata": {},
   "outputs": [
    {
     "name": "stdout",
     "output_type": "stream",
     "text": [
      "<class 'pandas.core.frame.DataFrame'>\n",
      "Int64Index: 3321 entries, 0 to 3320\n",
      "Data columns (total 5 columns):\n",
      "ID           3321 non-null int64\n",
      "Gene         3321 non-null object\n",
      "Variation    3321 non-null object\n",
      "Class        3321 non-null int64\n",
      "TEXT         3321 non-null object\n",
      "dtypes: int64(2), object(3)\n",
      "memory usage: 315.7+ KB\n"
     ]
    }
   ],
   "source": [
    "df.info()"
   ]
  },
  {
   "cell_type": "markdown",
   "metadata": {},
   "source": [
    "## Splitting the Dataset into Train, CV and Test"
   ]
  },
  {
   "cell_type": "code",
   "execution_count": 13,
   "metadata": {},
   "outputs": [],
   "source": [
    "from sklearn.model_selection import train_test_split"
   ]
  },
  {
   "cell_type": "code",
   "execution_count": 14,
   "metadata": {},
   "outputs": [],
   "source": [
    "# giving \"stratify = df['Class']\" will maintain the random distribution of dataset a/c to df['Class']  \n",
    "\n",
    "x_df , x_test, y_df ,y_test = train_test_split(df, df['Class'], stratify = df['Class'].values, test_size=0.20)\n",
    "\n",
    "# again breaking for train and CV\n",
    "x_train, x_cv, y_train, y_cv = train_test_split(x_df, y_df, stratify = y_df, test_size=0.20)"
   ]
  },
  {
   "cell_type": "code",
   "execution_count": 123,
   "metadata": {},
   "outputs": [
    {
     "data": {
      "text/plain": [
       "7    609\n",
       "4    439\n",
       "1    363\n",
       "2    289\n",
       "6    176\n",
       "5    155\n",
       "3     57\n",
       "9     24\n",
       "8     12\n",
       "Name: Class, dtype: int64"
      ]
     },
     "execution_count": 123,
     "metadata": {},
     "output_type": "execute_result"
    }
   ],
   "source": [
    "x_train.Class.value_counts()"
   ]
  },
  {
   "cell_type": "code",
   "execution_count": 124,
   "metadata": {},
   "outputs": [
    {
     "data": {
      "text/plain": [
       "7    191\n",
       "4    137\n",
       "1    114\n",
       "2     91\n",
       "6     55\n",
       "5     48\n",
       "3     18\n",
       "9      7\n",
       "8      4\n",
       "Name: Class, dtype: int64"
      ]
     },
     "execution_count": 124,
     "metadata": {},
     "output_type": "execute_result"
    }
   ],
   "source": [
    "x_test.Class.value_counts()"
   ]
  },
  {
   "cell_type": "code",
   "execution_count": 125,
   "metadata": {},
   "outputs": [
    {
     "data": {
      "text/plain": [
       "7    153\n",
       "4    110\n",
       "1     91\n",
       "2     72\n",
       "6     44\n",
       "5     39\n",
       "3     14\n",
       "9      6\n",
       "8      3\n",
       "Name: Class, dtype: int64"
      ]
     },
     "execution_count": 125,
     "metadata": {},
     "output_type": "execute_result"
    }
   ],
   "source": [
    "x_cv.Class.value_counts()"
   ]
  },
  {
   "cell_type": "code",
   "execution_count": 18,
   "metadata": {},
   "outputs": [],
   "source": [
    "# Above distributions also shows that the dataset in Imbalanceed"
   ]
  },
  {
   "cell_type": "markdown",
   "metadata": {},
   "source": [
    "## Function for plotting Confusion matrix"
   ]
  },
  {
   "cell_type": "code",
   "execution_count": 132,
   "metadata": {},
   "outputs": [],
   "source": [
    "from sklearn.metrics import confusion_matrix\n",
    "import seaborn as sns"
   ]
  },
  {
   "cell_type": "code",
   "execution_count": 283,
   "metadata": {},
   "outputs": [],
   "source": [
    "def plot_confusion_matrix(y_test, y_predicted):\n",
    "   \n",
    "    c_labels = [1,2,3,4,5,6,7,8,9]\n",
    "    \n",
    "        \n",
    "    # Confusion Matrix and its presentation\n",
    "    confusion = confusion_matrix(y_test, y_predicted)\n",
    "    \n",
    "    print(\"-\"*20, \"Confusion matrix\", \"-\"*20)\n",
    "    plt.figure(figsize=(20,7))\n",
    "    sns.heatmap(confusion, annot=True, cmap=\"YlGnBu\", fmt=\".3f\", xticklabels=labels, yticklabels=labels)\n",
    "    plt.xlabel('Predicted Class')\n",
    "    plt.ylabel('Original Class')\n",
    "    plt.show()\n",
    "    \n",
    "    # Precision Matrix\n",
    "    precision = confusion/confusion.sum(axis=0)\n",
    "\n",
    "    print(\"-\"*20, \"Presion matrix\", \"-\"*20)\n",
    "    plt.figure(figsize=(20,7))\n",
    "    sns.heatmap(precision, annot=True, cmap=\"YlGnBu\", fmt=\".3f\", xticklabels = c_labels, yticklabels= c_labels)\n",
    "    plt.xlabel(\"Predcited Class\")\n",
    "    plt.ylabel(\"Original Class\")\n",
    "    plt.show()\n",
    "    \n",
    "    \n",
    "    # Recall Matrix\n",
    "    recall = ((confusion.T)/((confusion.T).sum(axis=0))).T\n",
    "    \n",
    "    print(\"-\"*20, \"Recall matrix\", \"-\"*20)\n",
    "    plt.figure(figsize=(20,7))\n",
    "    sns.heatmap(recall, annot=True, cmap=\"YlGnBu\", fmt=\".3f\",xticklabels = c_labels, yticklabels= c_labels )\n",
    "    plt.xlabel(\"Predcited Class\")\n",
    "    plt.ylabel(\"Original Class\")\n",
    "    plt.show()\n",
    "    "
   ]
  },
  {
   "cell_type": "markdown",
   "metadata": {},
   "source": [
    "## Predicting using Random Model"
   ]
  },
  {
   "cell_type": "code",
   "execution_count": null,
   "metadata": {},
   "outputs": [],
   "source": []
  },
  {
   "cell_type": "markdown",
   "metadata": {},
   "source": [
    "## Categorical Feature -- > Numerical Feature"
   ]
  },
  {
   "cell_type": "code",
   "execution_count": 111,
   "metadata": {},
   "outputs": [
    {
     "name": "stdout",
     "output_type": "stream",
     "text": [
      "No of unique genes -  264\n",
      "\n",
      "Top 10 genes - \n"
     ]
    },
    {
     "data": {
      "text/plain": [
       "BRCA1     264\n",
       "TP53      163\n",
       "EGFR      141\n",
       "PTEN      126\n",
       "BRCA2     125\n",
       "KIT        99\n",
       "BRAF       93\n",
       "ERBB2      69\n",
       "ALK        69\n",
       "PDGFRA     60\n",
       "Name: Gene, dtype: int64"
      ]
     },
     "execution_count": 111,
     "metadata": {},
     "output_type": "execute_result"
    }
   ],
   "source": [
    "print(\"No of unique genes - \",df.Gene.value_counts().shape[0])\n",
    "print(\"\\nTop 10 genes - \")\n",
    "df.Gene.value_counts().head(10)"
   ]
  },
  {
   "cell_type": "code",
   "execution_count": 112,
   "metadata": {},
   "outputs": [],
   "source": [
    "# # 264 type of genes\n",
    "# Methods available for encoding --\n",
    "# 1. one hot encoding  - for (Logistic regression , linear svm)\n",
    "# 2. Response coding  - for (random foredt, Naive Bayes)"
   ]
  },
  {
   "cell_type": "code",
   "execution_count": 113,
   "metadata": {},
   "outputs": [],
   "source": [
    "#  when we caculate the probability of a feature belongs to any particular class,also by apply laplace smoothing\n",
    "#  prob = (numerator + 10\\*alpha) / (denominator + 90\\*alpha)\n",
    "\n",
    "def prob_count(dataframe, feature, alpha):\n",
    "    feature_dict = dict()\n",
    "    for gene_type, no_of_gene in dataframe[feature].value_counts().items():\n",
    "        prob_vec = []\n",
    "        for i in range(1,10):\n",
    "            no_class_type = dataframe[(dataframe[feature]==gene_type) & (dataframe.Class==i)].shape[0]\n",
    "            prob = (int(no_class_type) + alpha*10)/(int(no_of_gene) + 90*alpha)\n",
    "            prob_vec.append(prob)\n",
    "        feature_dict[gene_type]= prob_vec\n",
    "    return feature_dict"
   ]
  },
  {
   "cell_type": "code",
   "execution_count": 114,
   "metadata": {},
   "outputs": [],
   "source": [
    "def feature_apply(dataframe, feature, alpha):\n",
    "    \n",
    "    dic = prob_count(dataframe,feature, alpha)\n",
    "    \n",
    "    value_count = dataframe[feature].value_counts()\n",
    "    gv_fea = []\n",
    "   \n",
    "    for index, row in dataframe.iterrows():\n",
    "        if row[feature] in dict(value_count).keys():\n",
    "            gv_fea.append(dic[row[feature]])\n",
    "        else:\n",
    "            gv_fea.append([1/9,1/9,1/9,1/9,1/9,1/9,1/9,1/9,1/9])\n",
    "    return gv_fea"
   ]
  },
  {
   "cell_type": "markdown",
   "metadata": {},
   "source": [
    "#### Difference between the Onehot and Resemble encoding dimensionality \n",
    "\n",
    "* Response Coding shape -- (2124 , 9 )\n",
    "* One hot encoding shape -- (2124 , 230 )"
   ]
  },
  {
   "cell_type": "markdown",
   "metadata": {},
   "source": [
    "# Univariant Analysis on feature -- \"Gene\"\n",
    "\n",
    "* To check the imporatance of \"Gene\" feature in predicting the model\n",
    "* Train a simple model by taking \"Gene\" as only feature\n",
    "* Compare the Logg loss of above model with Random Model\n",
    "* If log loss Simple model < log loss Random model, then \"Gene\" can be considered useful feature"
   ]
  },
  {
   "cell_type": "code",
   "execution_count": 128,
   "metadata": {},
   "outputs": [],
   "source": [
    "# Coverting the features of dataset onto Response Coding --\n",
    "\n",
    "train_response_coded = np.array(feature_apply(x_train, \"Gene\", 1))\n",
    "test_response_coded = np.array(feature_apply(x_test, \"Gene\", 1))\n",
    "cv_response_coded = np.array(feature_apply(x_cv, \"Gene\", 1))"
   ]
  },
  {
   "cell_type": "code",
   "execution_count": 131,
   "metadata": {},
   "outputs": [
    {
     "data": {
      "text/plain": [
       "((2124, 9), (665, 9), (532, 9))"
      ]
     },
     "execution_count": 131,
     "metadata": {},
     "output_type": "execute_result"
    }
   ],
   "source": [
    "train_response_coded.shape , test_response_coded.shape , cv_response_coded.shape"
   ]
  },
  {
   "cell_type": "code",
   "execution_count": 174,
   "metadata": {},
   "outputs": [],
   "source": [
    "# One hot encoding of the \"Gene\"\n",
    "\n",
    "from sklearn.feature_extraction.text import CountVectorizer\n",
    "\n",
    "gene_vectorizer = CountVectorizer()\n",
    "train_gene_onehot = gene_vectorizer.fit_transform(x_train.Gene)\n",
    "test_gene_onehot = gene_vectorizer.transform(x_test.Gene)\n",
    "cv_gene_onehot = gene_vectorizer.transform(x_cv.Gene)"
   ]
  },
  {
   "cell_type": "code",
   "execution_count": 175,
   "metadata": {},
   "outputs": [
    {
     "data": {
      "text/plain": [
       "((2124, 230), (665, 230), (532, 230))"
      ]
     },
     "execution_count": 175,
     "metadata": {},
     "output_type": "execute_result"
    }
   ],
   "source": [
    "train_gene_onehot.shape,  test_gene_onehot.shape, cv_gene_onehot.shape"
   ]
  },
  {
   "cell_type": "code",
   "execution_count": null,
   "metadata": {},
   "outputs": [],
   "source": []
  },
  {
   "cell_type": "code",
   "execution_count": 101,
   "metadata": {},
   "outputs": [],
   "source": [
    "from sklearn.linear_model import SGDClassifier\n",
    "from sklearn.calibration import CalibratedClassifierCV # probalistic predicted model needed to be calibrated\n",
    "from sklearn.metrics.classification import accuracy_score, log_loss"
   ]
  },
  {
   "cell_type": "code",
   "execution_count": 186,
   "metadata": {},
   "outputs": [
    {
     "name": "stdout",
     "output_type": "stream",
     "text": [
      "Log loss for aplha =  1e-05  is  1.3917533656368415\n",
      "Log loss for aplha =  0.0001  is  1.4083940869639775\n",
      "Log loss for aplha =  0.001  is  1.4703591539071679\n",
      "Log loss for aplha =  0.01  is  1.502269165547802\n",
      "Log loss for aplha =  0.1  is  1.5080843250146783\n",
      "Log loss for aplha =  1  is  1.5047469553775108\n",
      "Log loss for aplha =  10  is  1.477187220895148\n"
     ]
    }
   ],
   "source": [
    "# implementing LOGISTIC REGRESSION in SGDClassifier --\n",
    "# First with Response Encoding\n",
    "\n",
    "alpha = [10**x for x in range(-5,2)]\n",
    "\n",
    "log_loss_array = []\n",
    "\n",
    "for i in alpha:\n",
    "    model = SGDClassifier(loss='log',penalty='l2',alpha=i, random_state=42)\n",
    "    model.fit(train_response_coded ,y_train)\n",
    "    sigmoid_model = CalibratedClassifierCV( model , method='sigmoid')\n",
    "    sigmoid_model.fit(train_response_coded,y_train)\n",
    "    predict_y = sigmoid_model.predict_proba(cv_response_coded)\n",
    "    log_loss_array.append(log_loss(y_cv, predict_y))\n",
    "    print(\"Log loss for aplha = \",i,\" is \",log_loss(y_cv, predict_y, labels=model.classes_))"
   ]
  },
  {
   "cell_type": "code",
   "execution_count": 187,
   "metadata": {},
   "outputs": [
    {
     "name": "stdout",
     "output_type": "stream",
     "text": [
      "For values of best alpha =  1e-05  The train log loss is: 1.171074312545567\n",
      "For values of best alpha =  1e-05  The cross validation log loss is: 1.3917533656368415\n",
      "For values of best alpha =  1e-05  The test log loss is: 1.3713953775684529\n"
     ]
    }
   ],
   "source": [
    "# trainning model with best alpha = 10**-5\n",
    "alpha=1e-05\n",
    "model = SGDClassifier(loss='log',penalty='l2',alpha=1e-05,random_state=42)\n",
    "model.fit(train_response_coded, y_train)\n",
    "sigmoid_model = CalibratedClassifierCV(model,method='sigmoid')\n",
    "sigmoid_model.fit(train_response_coded, y_train)\n",
    "\n",
    "\n",
    "predict_y  = sigmoid_model.predict_proba(train_response_coded)\n",
    "print('For values of best alpha = ', alpha, \" The train log loss is:\",log_loss(y_train, predict_y, labels=model.classes_, eps=1e-15))\n",
    "predict_y  = sigmoid_model.predict_proba(cv_response_coded)\n",
    "print('For values of best alpha = ', alpha, \" The cross validation log loss is:\",log_loss(y_cv, predict_y, labels=model.classes_, eps=1e-15))\n",
    "predict_y  = sigmoid_model.predict_proba(test_response_coded)\n",
    "print('For values of best alpha = ', alpha, \" The test log loss is:\",log_loss(y_test, predict_y, labels=model.classes_, eps=1e-15))\n"
   ]
  },
  {
   "cell_type": "code",
   "execution_count": 188,
   "metadata": {},
   "outputs": [],
   "source": [
    "# there is not much difference between the train an test log loss and much less then Random model logg loss, this shows ---\n",
    "#  1) \"Gene\" feature is useful\n",
    "#  2) Model is not overfit,\n",
    "# Now Trying to reduce the loss furthus reducing the overfitting"
   ]
  },
  {
   "cell_type": "code",
   "execution_count": 189,
   "metadata": {},
   "outputs": [
    {
     "name": "stdout",
     "output_type": "stream",
     "text": [
      "Log loss for aplha =  1e-05  is  1.3971465399382268\n",
      "Log loss for aplha =  0.0001  is  1.235717148338864\n",
      "Log loss for aplha =  0.001  is  1.2700875730695023\n",
      "Log loss for aplha =  0.01  is  1.3780895104375896\n",
      "Log loss for aplha =  0.1  is  1.4545261923537602\n",
      "Log loss for aplha =  1  is  1.4792869379682054\n",
      "Log loss for aplha =  10  is  1.4828140475194644\n"
     ]
    }
   ],
   "source": [
    "# Implementing Linear regg with Onehot Encoding\n",
    "alpha = [10**x for x in range(-5,2)]\n",
    "log_loss_array = []\n",
    "\n",
    "for i in alpha:\n",
    "    model = SGDClassifier(loss=\"log\",penalty='l2',alpha=i,random_state=42)\n",
    "    model.fit(train_gene_onehot, y_train)\n",
    "    sigmoid_model = CalibratedClassifierCV(model, method='sigmoid')\n",
    "    sigmoid_model.fit(train_gene_onehot, y_train)\n",
    "    predict_y = sigmoid_model.predict_proba(cv_gene_onehot)\n",
    "    log_loss_array.append(log_loss(y_cv, predict_y, labels=model.classes_))\n",
    "    print(\"Log loss for aplha = \",i,\" is \",log_loss(y_cv, predict_y, labels=model.classes_))"
   ]
  },
  {
   "cell_type": "code",
   "execution_count": null,
   "metadata": {},
   "outputs": [],
   "source": []
  },
  {
   "cell_type": "markdown",
   "metadata": {},
   "source": [
    "## Univariant Analysis on feature -- \"Variation\""
   ]
  },
  {
   "cell_type": "code",
   "execution_count": 160,
   "metadata": {},
   "outputs": [
    {
     "name": "stdout",
     "output_type": "stream",
     "text": [
      "Number of unique variations =  1935\n"
     ]
    },
    {
     "data": {
      "text/plain": [
       "Truncating_Mutations    63\n",
       "Deletion                45\n",
       "Amplification           44\n",
       "Fusions                 23\n",
       "Overexpression           3\n",
       "Name: Variation, dtype: int64"
      ]
     },
     "execution_count": 160,
     "metadata": {},
     "output_type": "execute_result"
    }
   ],
   "source": [
    "print(\"Number of unique variations = \",x_train.Variation.value_counts().shape[0])\n",
    "x_train.Variation.value_counts().head()"
   ]
  },
  {
   "cell_type": "code",
   "execution_count": 162,
   "metadata": {},
   "outputs": [
    {
     "data": {
      "image/png": "[encoded data removed]",
      "text/plain": [
       "<Figure size 576x288 with 1 Axes>"
      ]
     },
     "metadata": {
      "needs_background": "light"
     },
     "output_type": "display_data"
    }
   ],
   "source": [
    "# Plotting HISTOGRAM to see the distribution of variations\n",
    "\n",
    "plt.figure(figsize=(8,4))\n",
    "s = sum(x_train.Variation.value_counts().values);\n",
    "h = x_train.Variation.value_counts().values/s;\n",
    "plt.plot(h, label=\"Histrogram of Variations\")\n",
    "plt.xlabel('Index of a Variation')\n",
    "plt.ylabel('Number of Occurances')\n",
    "plt.legend()\n",
    "plt.grid()\n",
    "plt.show()"
   ]
  },
  {
   "cell_type": "code",
   "execution_count": 200,
   "metadata": {},
   "outputs": [
    {
     "data": {
      "image/png": "[encoded data removed]",
      "text/plain": [
       "<Figure size 432x288 with 1 Axes>"
      ]
     },
     "metadata": {
      "needs_background": "light"
     },
     "output_type": "display_data"
    }
   ],
   "source": [
    "c = np.cumsum(h)\n",
    "plt.plot(c,label='Cumulative distribution of Variations')\n",
    "plt.grid()\n",
    "plt.legend()\n",
    "plt.show()\n",
    "\n",
    "\n",
    "'''curve is almost staright linear line, this sows if we select lets top 1500 feature\n",
    "   a/c to the y-axis prob reading = 80%, i.e. top 1500 features out of 1925 only contributes 80%\n",
    "   this shows most variation occur once'''"
   ]
  },
  {
   "cell_type": "code",
   "execution_count": null,
   "metadata": {},
   "outputs": [],
   "source": []
  },
  {
   "cell_type": "code",
   "execution_count": 164,
   "metadata": {},
   "outputs": [],
   "source": [
    "# Methods available to featurize :\n",
    "# 1) One hot Encoding\n",
    "# 2) Response coding"
   ]
  },
  {
   "cell_type": "code",
   "execution_count": 166,
   "metadata": {},
   "outputs": [],
   "source": [
    "# Response Coding\n",
    "alpha = 1 # taken for laplace smoothing\n",
    "\n",
    "train_var_res  = np.array(feature_apply(x_train,'Variation',1 ))\n",
    "test_var_res = np.array(feature_apply(x_test,'Variation',1))\n",
    "cv_var_res = np.array(feature_apply(x_cv,'Variation',1))"
   ]
  },
  {
   "cell_type": "code",
   "execution_count": 168,
   "metadata": {},
   "outputs": [
    {
     "data": {
      "text/plain": [
       "((2124, 9), (665, 9), (532, 9))"
      ]
     },
     "execution_count": 168,
     "metadata": {},
     "output_type": "execute_result"
    }
   ],
   "source": [
    "train_var_res.shape, test_var_res.shape, cv_var_res.shape"
   ]
  },
  {
   "cell_type": "code",
   "execution_count": 169,
   "metadata": {},
   "outputs": [],
   "source": [
    "# one-hot encoding of variation feature.\n",
    "variation_vectorizer = CountVectorizer()\n",
    "train_variation_feature_onehotCoding = variation_vectorizer.fit_transform(x_train['Variation'])\n",
    "test_variation_feature_onehotCoding = variation_vectorizer.transform(x_test['Variation'])\n",
    "cv_variation_feature_onehotCoding = variation_vectorizer.transform(x_cv['Variation'])"
   ]
  },
  {
   "cell_type": "code",
   "execution_count": 173,
   "metadata": {},
   "outputs": [
    {
     "data": {
      "text/plain": [
       "((2124, 1962), (665, 1962), (532, 1962))"
      ]
     },
     "execution_count": 173,
     "metadata": {},
     "output_type": "execute_result"
    }
   ],
   "source": [
    "train_variation_feature_onehotCoding.shape , test_variation_feature_onehotCoding.shape,  cv_variation_feature_onehotCoding.shape"
   ]
  },
  {
   "cell_type": "code",
   "execution_count": 191,
   "metadata": {},
   "outputs": [
    {
     "data": {
      "text/plain": [
       "1962"
      ]
     },
     "execution_count": 191,
     "metadata": {},
     "output_type": "execute_result"
    }
   ],
   "source": [
    "len(variation_vectorizer.get_feature_names())"
   ]
  },
  {
   "cell_type": "code",
   "execution_count": 195,
   "metadata": {},
   "outputs": [
    {
     "name": "stdout",
     "output_type": "stream",
     "text": [
      "Log loss for aplha =  1e-05  is  1.7349383791868123\n",
      "Log loss for aplha =  0.0001  is  1.7221588589493528\n",
      "Log loss for aplha =  0.001  is  1.7216159120667356\n",
      "Log loss for aplha =  0.01  is  1.727535368297859\n",
      "Log loss for aplha =  0.1  is  1.7350697615182857\n",
      "Log loss for aplha =  1  is  1.7364241940001783\n",
      "Log loss for aplha =  10  is  1.736589177903987\n"
     ]
    }
   ],
   "source": [
    "# trainning model on logistic regg using one hot encoded data\n",
    "\n",
    "alpha = [10**x for x in range(-5,2)]\n",
    "log_loss_array = []\n",
    "\n",
    "for i in alpha:\n",
    "    model = SGDClassifier(loss='log', penalty='l2',alpha=i, random_state=42)\n",
    "    model.fit(train_variation_feature_onehotCoding, y_train)\n",
    "    sigmoid_model = CalibratedClassifierCV(model, method='sigmoid')\n",
    "    sigmoid_model.fit(train_variation_feature_onehotCoding, y_train)\n",
    "    predict_y = sigmoid_model.predict_proba(cv_variation_feature_onehotCoding)\n",
    "    log_loss_array.append(log_loss(y_cv, predict_y))\n",
    "    print(\"Log loss for aplha = \",i,\" is \",log_loss(y_cv, predict_y, labels=model.classes_))"
   ]
  },
  {
   "cell_type": "code",
   "execution_count": 199,
   "metadata": {},
   "outputs": [
    {
     "name": "stdout",
     "output_type": "stream",
     "text": [
      "For values of best alpha =  0.001  The train log loss is: 1.1163090624636873\n",
      "For values of best alpha =  0.001  The cross validation log loss is: 1.7216159120667356\n",
      "For values of best alpha =  0.001  The test log loss is: 1.7150314078187232\n"
     ]
    }
   ],
   "source": [
    "# trainning model at best alpha = 0.001\n",
    "alpha = 0.001\n",
    "\n",
    "model = SGDClassifier(loss='log',penalty='l2',alpha=0.001,random_state=42)\n",
    "model.fit(train_variation_feature_onehotCoding, y_train)\n",
    "sigmoid_model = CalibratedClassifierCV(model,method='sigmoid')\n",
    "sigmoid_model.fit(train_variation_feature_onehotCoding, y_train)\n",
    "\n",
    "\n",
    "predict_y  = sigmoid_model.predict_proba(train_variation_feature_onehotCoding)\n",
    "\n",
    "print('For values of best alpha = ', alpha, \" The train log loss is:\",log_loss(y_train, predict_y, labels=model.classes_, eps=1e-15))\n",
    "predict_y  = sigmoid_model.predict_proba(cv_variation_feature_onehotCoding)\n",
    "print('For values of best alpha = ', alpha, \" The cross validation log loss is:\",log_loss(y_cv, predict_y, labels=model.classes_, eps=1e-15))\n",
    "predict_y  = sigmoid_model.predict_proba(test_variation_feature_onehotCoding)\n",
    "print('For values of best alpha = ', alpha, \" The test log loss is:\",log_loss(y_test, predict_y, labels=model.classes_, eps=1e-15))\n"
   ]
  },
  {
   "cell_type": "code",
   "execution_count": 203,
   "metadata": {},
   "outputs": [],
   "source": [
    "# \n",
    "# Conlusions from 'Variation' analysis-\n",
    "# 1) Variation feature is useful as loss less then random model\n",
    "# 2) More instability in variation then gene feature as in variation train, cv and test loss have marginal difference\n",
    "# 3) Gene more stable as compared to variation\n",
    "# "
   ]
  },
  {
   "cell_type": "markdown",
   "metadata": {},
   "source": [
    "## Univariant Analysis on feature -- \"Text\""
   ]
  },
  {
   "cell_type": "code",
   "execution_count": 205,
   "metadata": {},
   "outputs": [
    {
     "data": {
      "text/plain": [
       "2881    abstract classification rare missense variants...\n",
       "1295    three dimensional structure complex human h ra...\n",
       "1491    abstract prospective clinical sequencing progr...\n",
       "2905    neurofibromatosis type 2 nf2 multiple neoplasi...\n",
       "343     41 year old man familial history gastric cance...\n",
       "Name: TEXT, dtype: object"
      ]
     },
     "execution_count": 205,
     "metadata": {},
     "output_type": "execute_result"
    }
   ],
   "source": [
    "x_train.TEXT.head()"
   ]
  },
  {
   "cell_type": "code",
   "execution_count": 242,
   "metadata": {},
   "outputs": [],
   "source": [
    "# functiion to count the no of words in each row\n",
    "from collections import defaultdict\n",
    "\n",
    "def extract_dictionary_paddle(cls_text):\n",
    "    dictionary = defaultdict(int)\n",
    "    for index, row in cls_text.iterrows():\n",
    "        for word in row['TEXT'].split():\n",
    "            dictionary[word] +=1\n",
    "    return dictionary"
   ]
  },
  {
   "cell_type": "code",
   "execution_count": 243,
   "metadata": {},
   "outputs": [],
   "source": [
    "import math\n",
    "def get_text_responsecoding(df):\n",
    "    text_feature_responseCoding = np.zeros((df.shape[0],9))\n",
    "    for i in range(0,9):\n",
    "        row_index = 0\n",
    "        for index, row in df.iterrows():\n",
    "            sum_prob = 0\n",
    "            for word in row['TEXT'].split():\n",
    "                sum_prob += math.log(((dict_list[i].get(word,0)+10 )/(total_dict.get(word,0)+90)))\n",
    "            text_feature_responseCoding[row_index][i] = math.exp(sum_prob/len(row['TEXT'].split()))\n",
    "            row_index += 1\n",
    "    return text_feature_responseCoding"
   ]
  },
  {
   "cell_type": "code",
   "execution_count": 237,
   "metadata": {},
   "outputs": [
    {
     "name": "stdout",
     "output_type": "stream",
     "text": [
      "Total number of unique words in train data : 53994\n"
     ]
    }
   ],
   "source": [
    "# Text feature one hot incoding- \n",
    "\n",
    "from sklearn.feature_extraction.text import CountVectorizer\n",
    "text_vectorizer = CountVectorizer(min_df=3)\n",
    "train_text_feature_onehotCoding = text_vectorizer.fit_transform(x_train.TEXT)\n",
    "\n",
    "train_text_features = text_vectorizer.get_feature_names()\n",
    "# train_text_feature_onehotCoding.sum(axis=0).A1 will sum every row and returns (1*number of features) vector\n",
    "train_text_fea_counts = train_text_feature_onehotCoding.sum(axis=0).A1\n",
    "\n",
    "# zip(list(text_features),text_fea_counts) will zip a word with its number of times it occured\n",
    "text_fea_dict = dict(zip(list(train_text_features),train_text_fea_counts))\n",
    "\n",
    "\n",
    "print(\"Total number of unique words in train data :\", len(train_text_features))"
   ]
  },
  {
   "cell_type": "code",
   "execution_count": 235,
   "metadata": {},
   "outputs": [
    {
     "data": {
      "text/plain": [
       "(2124, 53994)"
      ]
     },
     "execution_count": 235,
     "metadata": {},
     "output_type": "execute_result"
    }
   ],
   "source": [
    "train_text_onehot_encode.shape"
   ]
  },
  {
   "cell_type": "code",
   "execution_count": 244,
   "metadata": {},
   "outputs": [],
   "source": [
    "dict_list = []\n",
    "# dict_list =[] contains 9 dictoinaries each corresponds to a class\n",
    "for i in range(1,10):\n",
    "    cls_text = x_train[x_train['Class']==i]\n",
    "    # build a word dict based on the words in that class\n",
    "    dict_list.append(extract_dictionary_paddle(cls_text))\n",
    "    # append it to dict_list\n",
    "\n",
    "# dict_list[i] is build on i'th  class text data\n",
    "# total_dict is buid on whole training text data\n",
    "total_dict = extract_dictionary_paddle(x_train)\n",
    "\n",
    "\n",
    "confuse_array = []\n",
    "for i in train_text_features:\n",
    "    ratios = []\n",
    "    max_val = -1\n",
    "    for j in range(0,9):\n",
    "        ratios.append((dict_list[j][i]+10 )/(total_dict[i]+90))\n",
    "    confuse_array.append(ratios)\n",
    "confuse_array = np.array(confuse_array)"
   ]
  },
  {
   "cell_type": "code",
   "execution_count": 246,
   "metadata": {},
   "outputs": [],
   "source": [
    "#response coding of text features\n",
    "train_text_feature_responseCoding  = get_text_responsecoding(x_train)\n",
    "test_text_feature_responseCoding  = get_text_responsecoding(x_test)\n",
    "cv_text_feature_responseCoding  = get_text_responsecoding(x_cv)"
   ]
  },
  {
   "cell_type": "code",
   "execution_count": 247,
   "metadata": {},
   "outputs": [],
   "source": [
    "# we convert each row values such that they sum to 1  \n",
    "train_text_feature_responseCoding = (train_text_feature_responseCoding.T/train_text_feature_responseCoding.sum(axis=1)).T\n",
    "test_text_feature_responseCoding = (test_text_feature_responseCoding.T/test_text_feature_responseCoding.sum(axis=1)).T\n",
    "cv_text_feature_responseCoding = (cv_text_feature_responseCoding.T/cv_text_feature_responseCoding.sum(axis=1)).T"
   ]
  },
  {
   "cell_type": "code",
   "execution_count": 250,
   "metadata": {},
   "outputs": [],
   "source": [
    "from sklearn.preprocessing import normalize\n",
    "# Normalizing every vector\n",
    "\n",
    "train_text_feature_onehotCoding = normalize(train_text_feature_onehotCoding, axis=0)\n",
    "\n",
    "# we use the same vectorizer that was trained on train data\n",
    "test_text_feature_onehotCoding = text_vectorizer.transform(x_test['TEXT'])\n",
    "# don't forget to normalize every feature\n",
    "test_text_feature_onehotCoding = normalize(test_text_feature_onehotCoding, axis=0)\n",
    "\n",
    "# we use the same vectorizer that was trained on train data\n",
    "cv_text_feature_onehotCoding = text_vectorizer.transform(x_cv['TEXT'])\n",
    "# don't forget to normalize every feature\n",
    "cv_text_feature_onehotCoding = normalize(cv_text_feature_onehotCoding, axis=0)"
   ]
  },
  {
   "cell_type": "code",
   "execution_count": 251,
   "metadata": {},
   "outputs": [],
   "source": [
    "sorted_text_fea_dict = dict(sorted(text_fea_dict.items(), key=lambda x: x[1] , reverse=True))\n",
    "sorted_text_occur = np.array(list(sorted_text_fea_dict.values()))"
   ]
  },
  {
   "cell_type": "code",
   "execution_count": 253,
   "metadata": {},
   "outputs": [
    {
     "name": "stdout",
     "output_type": "stream",
     "text": [
      "For values of alpha =  1e-05 The log loss is: 1.3650447261379834\n",
      "For values of alpha =  0.0001 The log loss is: 1.3170905152904284\n",
      "For values of alpha =  0.001 The log loss is: 1.1756495758154049\n",
      "For values of alpha =  0.01 The log loss is: 1.258298277466114\n",
      "For values of alpha =  0.1 The log loss is: 1.4648553813858824\n",
      "For values of alpha =  1 The log loss is: 1.6712464013672659\n",
      "For values of alpha =  10 The log loss is: 1.7044766449267803\n"
     ]
    }
   ],
   "source": [
    "alpha = [10**x for x in range(-5,2)]\n",
    "cv_log_error_array=[]\n",
    "for i in alpha:\n",
    "    clf = SGDClassifier(alpha=i, penalty='l2', loss='log', random_state=42)\n",
    "    clf.fit(train_text_feature_onehotCoding, y_train)\n",
    "    sig_clf = CalibratedClassifierCV(clf, method=\"sigmoid\")\n",
    "    sig_clf.fit(train_text_feature_onehotCoding, y_train)\n",
    "    predict_y = sig_clf.predict_proba(cv_text_feature_onehotCoding)\n",
    "    cv_log_error_array.append(log_loss(y_cv, predict_y, labels=clf.classes_, eps=1e-15))\n",
    "    print('For values of alpha = ', i, \"The log loss is:\",log_loss(y_cv, predict_y, labels=clf.classes_, eps=1e-15))\n"
   ]
  },
  {
   "cell_type": "code",
   "execution_count": 257,
   "metadata": {},
   "outputs": [
    {
     "name": "stdout",
     "output_type": "stream",
     "text": [
      "For values of best alpha =  0.001 The train log loss is: 0.7849638132676389\n",
      "For values of best alpha =  0.001 The cross validation log loss is: 1.1756495758154049\n",
      "For values of best alpha =  0.001 The test log loss is: 1.1425619381385108\n"
     ]
    }
   ],
   "source": [
    "# The best alpha = 0.001\n",
    "alpha = 0.001\n",
    "\n",
    "# trainning model on best alpha\n",
    "\n",
    "best_alpha = np.argmin(cv_log_error_array)\n",
    "clf = SGDClassifier(alpha=0.001, penalty='l2', loss='log', random_state=42)\n",
    "clf.fit(train_text_feature_onehotCoding, y_train)\n",
    "sig_clf = CalibratedClassifierCV(clf, method=\"sigmoid\")\n",
    "sig_clf.fit(train_text_feature_onehotCoding, y_train)\n",
    "\n",
    "predict_y = sig_clf.predict_proba(train_text_feature_onehotCoding)\n",
    "print('For values of best alpha = ', alpha, \"The train log loss is:\",log_loss(y_train, predict_y, labels=clf.classes_, eps=1e-15))\n",
    "predict_y = sig_clf.predict_proba(cv_text_feature_onehotCoding)\n",
    "print('For values of best alpha = ', alpha, \"The cross validation log loss is:\",log_loss(y_cv, predict_y, labels=clf.classes_, eps=1e-15))\n",
    "predict_y = sig_clf.predict_proba(test_text_feature_onehotCoding)\n",
    "print('For values of best alpha = ', alpha, \"The test log loss is:\",log_loss(y_test, predict_y, labels=clf.classes_, eps=1e-15))\n"
   ]
  },
  {
   "cell_type": "markdown",
   "metadata": {},
   "source": [
    "Following to be asked from all features - \n",
    "1. How many unique words are present in train data?\n",
    "2. How are word frequencies distributed?\n",
    "3. How to featurize text field?\n",
    "4. Is the text feature useful in predicitng y_i?\n",
    "5. Is the text feature stable across train, test and CV datasets?"
   ]
  },
  {
   "cell_type": "markdown",
   "metadata": {},
   "source": [
    "## Merging the data"
   ]
  },
  {
   "cell_type": "code",
   "execution_count": 258,
   "metadata": {},
   "outputs": [],
   "source": [
    "from scipy.sparse import hstack, vstack"
   ]
  },
  {
   "cell_type": "code",
   "execution_count": 265,
   "metadata": {},
   "outputs": [
    {
     "name": "stdout",
     "output_type": "stream",
     "text": [
      "One hot encoding features :\n",
      "(number of data points * number of features) in train data =  (2124, 56186)\n",
      "(number of data points * number of features) in test data =  (665, 56186)\n",
      "(number of data points * number of features) in cross validation data = (532, 56186)\n"
     ]
    }
   ],
   "source": [
    "# One hot Encoding Data\n",
    "\n",
    "train_gene_var_onehot = hstack((train_gene_onehot,train_variation_feature_onehotCoding))\n",
    "test_gene_var_onehot = hstack((test_gene_onehot,test_variation_feature_onehotCoding))\n",
    "cv_gene_var_onehot = hstack((cv_gene_onehot,cv_variation_feature_onehotCoding))\n",
    "\n",
    "train_x_onehotCoding = hstack((train_gene_var_onehot, train_text_feature_onehotCoding)).tocsr()\n",
    "train_y = np.array(list(x_train['Class']))\n",
    "\n",
    "test_x_onehotCoding = hstack((test_gene_var_onehot, test_text_feature_onehotCoding)).tocsr()\n",
    "test_y = np.array(list(x_test['Class']))\n",
    "\n",
    "cv_x_onehotCoding = hstack((cv_gene_var_onehot, cv_text_feature_onehotCoding)).tocsr()\n",
    "cv_y = np.array(list(x_cv['Class']))\n",
    "\n",
    "print(\"One hot encoding features :\")\n",
    "print(\"(number of data points * number of features) in train data = \", train_x_onehotCoding.shape)\n",
    "print(\"(number of data points * number of features) in test data = \", test_x_onehotCoding.shape)\n",
    "print(\"(number of data points * number of features) in cross validation data =\", cv_x_onehotCoding.shape)"
   ]
  },
  {
   "cell_type": "code",
   "execution_count": 297,
   "metadata": {},
   "outputs": [],
   "source": [
    "# Response Coding Data\n",
    "\n",
    "train_gene_var_responseCoding = np.hstack((train_gene_response,train_var_res))\n",
    "test_gene_var_responseCoding = np.hstack((test_gene_response,test_var_res))\n",
    "cv_gene_var_responseCoding = np.hstack((cv_gene_response,cv_var_res))\n",
    "\n",
    "train_x_responseCoding = np.hstack((train_gene_var_responseCoding, train_text_feature_responseCoding))\n",
    "test_x_responseCoding = np.hstack((test_gene_var_responseCoding, test_text_feature_responseCoding))\n",
    "cv_x_responseCoding = np.hstack((cv_gene_var_responseCoding, cv_text_feature_responseCoding))\n"
   ]
  },
  {
   "cell_type": "markdown",
   "metadata": {},
   "source": [
    "## Naive Bays (Baseline Model)"
   ]
  },
  {
   "cell_type": "code",
   "execution_count": 271,
   "metadata": {},
   "outputs": [],
   "source": [
    "from sklearn.naive_bayes import MultinomialNB # haning multiple classes"
   ]
  },
  {
   "cell_type": "code",
   "execution_count": 275,
   "metadata": {},
   "outputs": [
    {
     "name": "stdout",
     "output_type": "stream",
     "text": [
      "Log Loss : 1.29794252840723  For alpha =  1e-05\n",
      "Log Loss : 1.295867489977237  For alpha =  0.0001\n",
      "Log Loss : 1.2999103131535357  For alpha =  0.001\n",
      "Log Loss : 1.301798781033563  For alpha =  0.01\n",
      "Log Loss : 1.3196815855225286  For alpha =  0.1\n",
      "Log Loss : 1.3456016304356082  For alpha =  1\n",
      "Log Loss : 1.3964065509815382  For alpha =  10\n"
     ]
    }
   ],
   "source": [
    "alpha = [10**x for x in range(-5,2)]\n",
    "cv_logloss_array = []\n",
    "for i in alpha:\n",
    "    clf = MultinomialNB(alpha=i)\n",
    "    clf.fit(train_x_onehotCoding, train_y)\n",
    "    sig_clf = CalibratedClassifierCV(clf, method=\"sigmoid\")\n",
    "    sig_clf.fit(train_x_onehotCoding, train_y)\n",
    "    sig_clf_probs = sig_clf.predict_proba(cv_x_onehotCoding)\n",
    "    cv_log_error_array.append(log_loss(cv_y,sig_clf_probs, labels=clf.classes_))\n",
    "    print(\"Log Loss :\",log_loss(cv_y, sig_clf_probs),\" For alpha = \",i) \n",
    "    "
   ]
  },
  {
   "cell_type": "code",
   "execution_count": 280,
   "metadata": {},
   "outputs": [
    {
     "name": "stdout",
     "output_type": "stream",
     "text": [
      "For values of best alpha =  0.0001 The train log loss is: 0.8806747652737554\n",
      "For values of best alpha =  0.0001 The cross validation log loss is: 1.295867489977237\n",
      "For values of best alpha =  0.0001 The test log loss is: 1.2724920025131252\n"
     ]
    }
   ],
   "source": [
    "# best alpha = 0.0001\n",
    "best_alpha = 0.0001\n",
    "clf = MultinomialNB(alpha=best_alpha)\n",
    "clf.fit(train_x_onehotCoding, train_y)\n",
    "sig_clf = CalibratedClassifierCV(clf, method=\"sigmoid\")\n",
    "sig_clf.fit(train_x_onehotCoding, train_y)\n",
    "\n",
    "\n",
    "predict_y = sig_clf.predict_proba(train_x_onehotCoding)\n",
    "print('For values of best alpha = ', best_alpha, \"The train log loss is:\",log_loss(y_train, predict_y, labels=clf.classes_, eps=1e-15))\n",
    "predict_y = sig_clf.predict_proba(cv_x_onehotCoding)\n",
    "print('For values of best alpha = ', best_alpha, \"The cross validation log loss is:\",log_loss(y_cv, predict_y, labels=clf.classes_, eps=1e-15))\n",
    "predict_y = sig_clf.predict_proba(test_x_onehotCoding)\n",
    "print('For values of best alpha = ', best_alpha, \"The test log loss is:\",log_loss(y_test, predict_y, labels=clf.classes_, eps=1e-15))"
   ]
  },
  {
   "cell_type": "code",
   "execution_count": 292,
   "metadata": {},
   "outputs": [],
   "source": [
    "# this function will be used just for naive bayes\n",
    "# for the given indices, we will print the name of the features\n",
    "# and we will check whether the feature present in the test point text or not\n",
    "def get_impfeature_names(indices, text, gene, var, no_features):\n",
    "    gene_count_vec = CountVectorizer()\n",
    "    var_count_vec = CountVectorizer()\n",
    "    text_count_vec = CountVectorizer(min_df=3)\n",
    "    \n",
    "    gene_vec = gene_count_vec.fit(x_train['Gene'])\n",
    "    var_vec  = var_count_vec.fit(x_train['Variation'])\n",
    "    text_vec = text_count_vec.fit(x_train['TEXT'])\n",
    "    \n",
    "    fea1_len = len(gene_vec.get_feature_names())\n",
    "    fea2_len = len(var_count_vec.get_feature_names())\n",
    "    \n",
    "    word_present = 0\n",
    "    for i,v in enumerate(indices):\n",
    "        if (v < fea1_len):\n",
    "            word = gene_vec.get_feature_names()[v]\n",
    "            yes_no = True if word == gene else False\n",
    "            if yes_no:\n",
    "                word_present += 1\n",
    "                print(i, \"Gene feature [{}] present in test data point [{}]\".format(word,yes_no))\n",
    "        elif (v < fea1_len+fea2_len):\n",
    "            word = var_vec.get_feature_names()[v-(fea1_len)]\n",
    "            yes_no = True if word == var else False\n",
    "            if yes_no:\n",
    "                word_present += 1\n",
    "                print(i, \"variation feature [{}] present in test data point [{}]\".format(word,yes_no))\n",
    "        else:\n",
    "            word = text_vec.get_feature_names()[v-(fea1_len+fea2_len)]\n",
    "            yes_no = True if word in text.split() else False\n",
    "            if yes_no:\n",
    "                word_present += 1\n",
    "                print(i, \"Text feature [{}] present in test data point [{}]\".format(word,yes_no))\n",
    "\n",
    "    print(\"Out of the top \",no_features,\" features \", word_present, \"are present in query point\")"
   ]
  },
  {
   "cell_type": "code",
   "execution_count": 293,
   "metadata": {},
   "outputs": [
    {
     "name": "stdout",
     "output_type": "stream",
     "text": [
      "Predicted Class : 2\n",
      "Predicted Class Probabilities: [[0.1103 0.5172 0.0131 0.1286 0.0494 0.0421 0.1313 0.0055 0.0025]]\n",
      "Actual Class : 2\n",
      "--------------------------------------------------\n",
      "17 Text feature [novel] present in test data point [True]\n",
      "18 Text feature [identified] present in test data point [True]\n",
      "19 Text feature [molecular] present in test data point [True]\n",
      "23 Text feature [including] present in test data point [True]\n",
      "24 Text feature [time] present in test data point [True]\n",
      "25 Text feature [new] present in test data point [True]\n",
      "26 Text feature [confirmed] present in test data point [True]\n",
      "27 Text feature [another] present in test data point [True]\n",
      "28 Text feature [different] present in test data point [True]\n",
      "29 Text feature [found] present in test data point [True]\n",
      "30 Text feature [recently] present in test data point [True]\n",
      "31 Text feature [well] present in test data point [True]\n",
      "32 Text feature [identification] present in test data point [True]\n",
      "34 Text feature [potential] present in test data point [True]\n",
      "36 Text feature [12] present in test data point [True]\n",
      "37 Text feature [case] present in test data point [True]\n",
      "38 Text feature [sequencing] present in test data point [True]\n",
      "39 Text feature [present] present in test data point [True]\n",
      "40 Text feature [also] present in test data point [True]\n",
      "41 Text feature [kinase] present in test data point [True]\n",
      "42 Text feature [using] present in test data point [True]\n",
      "43 Text feature [gene] present in test data point [True]\n",
      "44 Text feature [detection] present in test data point [True]\n",
      "45 Text feature [15] present in test data point [True]\n",
      "47 Text feature [tissue] present in test data point [True]\n",
      "48 Text feature [highly] present in test data point [True]\n",
      "49 Text feature [number] present in test data point [True]\n",
      "50 Text feature [common] present in test data point [True]\n",
      "51 Text feature [respectively] present in test data point [True]\n",
      "52 Text feature [one] present in test data point [True]\n",
      "53 Text feature [characterized] present in test data point [True]\n",
      "54 Text feature [pcr] present in test data point [True]\n",
      "55 Text feature [subsequent] present in test data point [True]\n",
      "56 Text feature [revealed] present in test data point [True]\n",
      "57 Text feature [findings] present in test data point [True]\n",
      "58 Text feature [therapeutic] present in test data point [True]\n",
      "59 Text feature [may] present in test data point [True]\n",
      "60 Text feature [identify] present in test data point [True]\n",
      "61 Text feature [achieved] present in test data point [True]\n",
      "62 Text feature [rearrangements] present in test data point [True]\n",
      "63 Text feature [initial] present in test data point [True]\n",
      "64 Text feature [additional] present in test data point [True]\n",
      "65 Text feature [described] present in test data point [True]\n",
      "67 Text feature [recent] present in test data point [True]\n",
      "68 Text feature [however] present in test data point [True]\n",
      "69 Text feature [clinical] present in test data point [True]\n",
      "70 Text feature [three] present in test data point [True]\n",
      "71 Text feature [development] present in test data point [True]\n",
      "72 Text feature [small] present in test data point [True]\n",
      "73 Text feature [mutations] present in test data point [True]\n",
      "74 Text feature [although] present in test data point [True]\n",
      "75 Text feature [specific] present in test data point [True]\n",
      "76 Text feature [observed] present in test data point [True]\n",
      "77 Text feature [known] present in test data point [True]\n",
      "78 Text feature [patient] present in test data point [True]\n",
      "79 Text feature [either] present in test data point [True]\n",
      "80 Text feature [studies] present in test data point [True]\n",
      "81 Text feature [similar] present in test data point [True]\n",
      "82 Text feature [previously] present in test data point [True]\n",
      "83 Text feature [13] present in test data point [True]\n",
      "84 Text feature [two] present in test data point [True]\n",
      "87 Text feature [go] present in test data point [True]\n",
      "88 Text feature [discussion] present in test data point [True]\n",
      "89 Text feature [similarly] present in test data point [True]\n",
      "90 Text feature [various] present in test data point [True]\n",
      "91 Text feature [10] present in test data point [True]\n",
      "92 Text feature [distinct] present in test data point [True]\n",
      "93 Text feature [study] present in test data point [True]\n",
      "94 Text feature [performed] present in test data point [True]\n",
      "95 Text feature [cell] present in test data point [True]\n",
      "96 Text feature [cases] present in test data point [True]\n",
      "97 Text feature [samples] present in test data point [True]\n",
      "99 Text feature [reported] present in test data point [True]\n",
      "Out of the top  100  features  73 are present in query point\n"
     ]
    }
   ],
   "source": [
    "test_point_index = 1\n",
    "no_feature = 100\n",
    "predicted_cls = sig_clf.predict(test_x_onehotCoding[test_point_index])\n",
    "print(\"Predicted Class :\", predicted_cls[0])\n",
    "print(\"Predicted Class Probabilities:\", np.round(sig_clf.predict_proba(test_x_onehotCoding[test_point_index]),4))\n",
    "print(\"Actual Class :\", test_y[test_point_index])\n",
    "indices=np.argsort(abs(-clf.coef_))[predicted_cls-1][:,:no_feature]\n",
    "print(\"-\"*50)\n",
    "get_impfeature_names(indices[0], x_train['TEXT'].iloc[test_point_index],x_train['Gene'].iloc[test_point_index],x_train['Variation'].iloc[test_point_index], no_feature)"
   ]
  },
  {
   "cell_type": "markdown",
   "metadata": {},
   "source": [
    "## KNN"
   ]
  },
  {
   "cell_type": "code",
   "execution_count": 301,
   "metadata": {},
   "outputs": [],
   "source": [
    "from sklearn.neighbors import KNeighborsClassifier"
   ]
  },
  {
   "cell_type": "code",
   "execution_count": 298,
   "metadata": {},
   "outputs": [
    {
     "name": "stdout",
     "output_type": "stream",
     "text": [
      "for alpha = 5\n",
      "Log Loss : 0.9767519132080404\n",
      "for alpha = 11\n",
      "Log Loss : 1.0141874695062616\n",
      "for alpha = 15\n",
      "Log Loss : 1.02672583597814\n",
      "for alpha = 21\n",
      "Log Loss : 1.0405414165225093\n",
      "for alpha = 31\n",
      "Log Loss : 1.065371124892595\n",
      "for alpha = 41\n",
      "Log Loss : 1.074852103802159\n",
      "for alpha = 51\n",
      "Log Loss : 1.086165338442726\n",
      "for alpha = 99\n",
      "Log Loss : 1.1616878969128774\n",
      "For values of best alpha =  5 The train log loss is: 0.4705959631023044\n",
      "For values of best alpha =  5 The cross validation log loss is: 0.9767519132080404\n",
      "For values of best alpha =  5 The test log loss is: 0.9266963206170508\n"
     ]
    }
   ],
   "source": [
    "# KNN dont work best with large dimensionality\n",
    "# hence instead of Onehot encoding - PESPONSE coding used with 9 features\n",
    "\n",
    "alpha = [5, 11, 15, 21, 31, 41, 51, 99]\n",
    "cv_log_error_array = []\n",
    "for i in alpha:\n",
    "    print(\"for alpha =\", i)\n",
    "    clf = KNeighborsClassifier(n_neighbors=i)\n",
    "    clf.fit(train_x_responseCoding, train_y)\n",
    "    sig_clf = CalibratedClassifierCV(clf, method=\"sigmoid\")\n",
    "    sig_clf.fit(train_x_responseCoding, train_y)\n",
    "    sig_clf_probs = sig_clf.predict_proba(cv_x_responseCoding)\n",
    "    cv_log_error_array.append(log_loss(cv_y, sig_clf_probs, labels=clf.classes_, eps=1e-15))\n",
    "    # to avoid rounding error while multiplying probabilites we use log-probability estimates\n",
    "    print(\"Log Loss :\",log_loss(cv_y, sig_clf_probs)) \n",
    "\n",
    "\n",
    "\n",
    "best_alpha = np.argmin(cv_log_error_array)\n",
    "clf = KNeighborsClassifier(n_neighbors=alpha[best_alpha])\n",
    "clf.fit(train_x_responseCoding, train_y)\n",
    "sig_clf = CalibratedClassifierCV(clf, method=\"sigmoid\")\n",
    "sig_clf.fit(train_x_responseCoding, train_y)\n",
    "\n",
    "predict_y = sig_clf.predict_proba(train_x_responseCoding)\n",
    "print('For values of best alpha = ', alpha[best_alpha], \"The train log loss is:\",log_loss(y_train, predict_y, labels=clf.classes_, eps=1e-15))\n",
    "predict_y = sig_clf.predict_proba(cv_x_responseCoding)\n",
    "print('For values of best alpha = ', alpha[best_alpha], \"The cross validation log loss is:\",log_loss(y_cv, predict_y, labels=clf.classes_, eps=1e-15))\n",
    "predict_y = sig_clf.predict_proba(test_x_responseCoding)\n",
    "print('For values of best alpha = ', alpha[best_alpha], \"The test log loss is:\",log_loss(y_test, predict_y, labels=clf.classes_, eps=1e-15))\n"
   ]
  },
  {
   "cell_type": "markdown",
   "metadata": {},
   "source": [
    "## Logistic Regression (With Class Balancing)"
   ]
  },
  {
   "cell_type": "code",
   "execution_count": 323,
   "metadata": {},
   "outputs": [],
   "source": [
    "# Model complexity increases downword ->\n",
    "\n",
    "# Naive Bays (can deal with large dimesionality) \n",
    "# KNN (can't deal with large dimesionality)\n",
    "# Logisctic Regg(can deal with large dimesionality) "
   ]
  },
  {
   "cell_type": "code",
   "execution_count": 326,
   "metadata": {},
   "outputs": [
    {
     "name": "stdout",
     "output_type": "stream",
     "text": [
      "Log Loss : 1.3841504995321026 for alpha = 1e-06\n",
      "Log Loss : 1.3739018751137557 for alpha = 1e-05\n",
      "Log Loss : 1.3084758548947837 for alpha = 0.0001\n",
      "Log Loss : 1.085104533444946 for alpha = 0.001\n",
      "Log Loss : 1.1412693442313302 for alpha = 0.01\n",
      "Log Loss : 1.512961011189445 for alpha = 0.1\n",
      "Log Loss : 1.7310198582185214 for alpha = 1\n",
      "Log Loss : 1.7519279274949409 for alpha = 10\n",
      "Log Loss : 1.7540776024928375 for alpha = 100\n"
     ]
    }
   ],
   "source": [
    "alpha = [10 ** x for x in range(-6, 3)]\n",
    "cv_log_error_array = []\n",
    "\n",
    "for i in alpha:\n",
    "    clf = SGDClassifier(class_weight='balanced', alpha=i, penalty='l2', loss='log', random_state=42)\n",
    "    clf.fit(train_x_onehotCoding, train_y)\n",
    "    sig_clf = CalibratedClassifierCV(clf, method=\"sigmoid\")\n",
    "    sig_clf.fit(train_x_onehotCoding, train_y)\n",
    "    sig_clf_probs = sig_clf.predict_proba(cv_x_onehotCoding)\n",
    "    cv_log_error_array.append(log_loss(cv_y, sig_clf_probs, labels=clf.classes_, eps=1e-15))\n",
    "    print(\"Log Loss :\",log_loss(cv_y, sig_clf_probs),\"for alpha =\", i) "
   ]
  },
  {
   "cell_type": "code",
   "execution_count": 327,
   "metadata": {},
   "outputs": [
    {
     "name": "stdout",
     "output_type": "stream",
     "text": [
      "For values of best alpha =  0.001 The train log loss is: 0.6430440608605126\n",
      "For values of best alpha =  0.001 The cross validation log loss is: 1.085104533444946\n",
      "For values of best alpha =  0.001 The test log loss is: 1.0647439432231667\n"
     ]
    }
   ],
   "source": [
    "# Trainning model with best alpha = 0.001 \n",
    "\n",
    "best_alpha = np.argmin(cv_log_error_array)\n",
    "clf = SGDClassifier(class_weight='balanced', alpha=alpha[best_alpha], penalty='l2', loss='log', random_state=42)\n",
    "clf.fit(train_x_onehotCoding, train_y)\n",
    "sig_clf = CalibratedClassifierCV(clf, method=\"sigmoid\")\n",
    "sig_clf.fit(train_x_onehotCoding, train_y)\n",
    "\n",
    "predict_y = sig_clf.predict_proba(train_x_onehotCoding)\n",
    "print('For values of best alpha = ', alpha[best_alpha], \"The train log loss is:\",log_loss(y_train, predict_y, labels=clf.classes_, eps=1e-15))\n",
    "predict_y = sig_clf.predict_proba(cv_x_onehotCoding)\n",
    "print('For values of best alpha = ', alpha[best_alpha], \"The cross validation log loss is:\",log_loss(y_cv, predict_y, labels=clf.classes_, eps=1e-15))\n",
    "predict_y = sig_clf.predict_proba(test_x_onehotCoding)\n",
    "print('For values of best alpha = ', alpha[best_alpha], \"The test log loss is:\",log_loss(y_test, predict_y, labels=clf.classes_, eps=1e-15))"
   ]
  },
  {
   "cell_type": "markdown",
   "metadata": {},
   "source": [
    "## Logistic Regression (Without Class Balancing)"
   ]
  },
  {
   "cell_type": "code",
   "execution_count": 330,
   "metadata": {},
   "outputs": [
    {
     "name": "stdout",
     "output_type": "stream",
     "text": [
      "Log Loss : 1.348756545123912 for alpha = 1e-06\n",
      "Log Loss : 1.3383874533988211 for alpha = 1e-05\n",
      "Log Loss : 1.2944675298354409 for alpha = 0.0001\n",
      "Log Loss : 1.1189397576709106 for alpha = 0.001\n",
      "Log Loss : 1.2022337139591928 for alpha = 0.01\n",
      "Log Loss : 1.3830852093239379 for alpha = 0.1\n",
      "Log Loss : 1.6150790873769503 for alpha = 1\n",
      "Log Loss : 1.656181194272004 for alpha = 10\n",
      "Log Loss : 1.6606932992385937 for alpha = 100\n"
     ]
    }
   ],
   "source": [
    "alpha = [10 ** x for x in range(-6, 3)]\n",
    "cv_log_error_array = []\n",
    "\n",
    "for i in alpha:\n",
    "    clf = SGDClassifier(alpha=i, penalty='l2', loss='log', random_state=42)\n",
    "    clf.fit(train_x_onehotCoding, train_y)\n",
    "    sig_clf = CalibratedClassifierCV(clf, method=\"sigmoid\")\n",
    "    sig_clf.fit(train_x_onehotCoding, train_y)\n",
    "    sig_clf_probs = sig_clf.predict_proba(cv_x_onehotCoding)\n",
    "    cv_log_error_array.append(log_loss(cv_y, sig_clf_probs, labels=clf.classes_, eps=1e-15))\n",
    "    print(\"Log Loss :\",log_loss(cv_y, sig_clf_probs),\"for alpha =\", i) "
   ]
  },
  {
   "cell_type": "code",
   "execution_count": 331,
   "metadata": {},
   "outputs": [
    {
     "name": "stdout",
     "output_type": "stream",
     "text": [
      "For values of best alpha =  0.001 The train log loss is: 0.6321985273917882\n",
      "For values of best alpha =  0.001 The cross validation log loss is: 1.1189397576709106\n",
      "For values of best alpha =  0.001 The test log loss is: 1.0811683048362903\n"
     ]
    }
   ],
   "source": [
    "# Trainning model with best alpha = 0.001 \n",
    "\n",
    "best_alpha = np.argmin(cv_log_error_array)\n",
    "clf = SGDClassifier(alpha=alpha[best_alpha], penalty='l2', loss='log', random_state=42)\n",
    "clf.fit(train_x_onehotCoding, train_y)\n",
    "sig_clf = CalibratedClassifierCV(clf, method=\"sigmoid\")\n",
    "sig_clf.fit(train_x_onehotCoding, train_y)\n",
    "\n",
    "predict_y = sig_clf.predict_proba(train_x_onehotCoding)\n",
    "print('For values of best alpha = ', alpha[best_alpha], \"The train log loss is:\",log_loss(y_train, predict_y, labels=clf.classes_, eps=1e-15))\n",
    "predict_y = sig_clf.predict_proba(cv_x_onehotCoding)\n",
    "print('For values of best alpha = ', alpha[best_alpha], \"The cross validation log loss is:\",log_loss(y_cv, predict_y, labels=clf.classes_, eps=1e-15))\n",
    "predict_y = sig_clf.predict_proba(test_x_onehotCoding)\n",
    "print('For values of best alpha = ', alpha[best_alpha], \"The test log loss is:\",log_loss(y_test, predict_y, labels=clf.classes_, eps=1e-15))"
   ]
  },
  {
   "cell_type": "markdown",
   "metadata": {},
   "source": [
    "## Linear SVM (with ClassBalanced)"
   ]
  },
  {
   "cell_type": "markdown",
   "metadata": {},
   "source": [
    "* RBK and Kernal SVM not used as we dont know the right kernal\n",
    "* in case we used text or RBF kernal the trained model is not interpretable\n",
    "* In linear SVM its easy to get feature imporatance, they are just like the logistic regg.\n"
   ]
  },
  {
   "cell_type": "code",
   "execution_count": 332,
   "metadata": {},
   "outputs": [
    {
     "name": "stdout",
     "output_type": "stream",
     "text": [
      "Log Loss : 1.3575829531084793 for alpha = 1e-06\n",
      "Log Loss : 1.3667828818906311 for alpha = 1e-05\n",
      "Log Loss : 1.316344250040108 for alpha = 0.0001\n",
      "Log Loss : 1.2242403052757578 for alpha = 0.001\n",
      "Log Loss : 1.172015362458566 for alpha = 0.01\n",
      "Log Loss : 1.3986220765454684 for alpha = 0.1\n",
      "Log Loss : 1.7449821872000097 for alpha = 1\n",
      "Log Loss : 1.754425392450009 for alpha = 10\n",
      "Log Loss : 1.7544253965147187 for alpha = 100\n"
     ]
    }
   ],
   "source": [
    "alpha = [10 ** x for x in range(-6, 3)]\n",
    "cv_log_error_array = []\n",
    "\n",
    "for i in alpha:\n",
    "    clf = SGDClassifier(class_weight='balanced',alpha=i, penalty='l2', loss='hinge', random_state=42)\n",
    "    clf.fit(train_x_onehotCoding, train_y)\n",
    "    sig_clf = CalibratedClassifierCV(clf, method=\"sigmoid\")\n",
    "    sig_clf.fit(train_x_onehotCoding, train_y)\n",
    "    sig_clf_probs = sig_clf.predict_proba(cv_x_onehotCoding)\n",
    "    cv_log_error_array.append(log_loss(cv_y, sig_clf_probs, labels=clf.classes_, eps=1e-15))\n",
    "    print(\"Log Loss :\",log_loss(cv_y, sig_clf_probs),\"for alpha =\", i) "
   ]
  },
  {
   "cell_type": "code",
   "execution_count": 333,
   "metadata": {},
   "outputs": [
    {
     "name": "stdout",
     "output_type": "stream",
     "text": [
      "For values of best alpha =  0.01 The train log loss is: 0.7763267349063716\n",
      "For values of best alpha =  0.01 The cross validation log loss is: 1.172015362458566\n",
      "For values of best alpha =  0.01 The test log loss is: 1.1348984683888912\n"
     ]
    }
   ],
   "source": [
    "# Trainning model with best alpha = 0.001 \n",
    "\n",
    "best_alpha = np.argmin(cv_log_error_array)\n",
    "clf = SGDClassifier(alpha=alpha[best_alpha], penalty='l2', loss='hinge', random_state=42, class_weight='balanced')\n",
    "clf.fit(train_x_onehotCoding, train_y)\n",
    "sig_clf = CalibratedClassifierCV(clf, method=\"sigmoid\")\n",
    "sig_clf.fit(train_x_onehotCoding, train_y)\n",
    "\n",
    "predict_y = sig_clf.predict_proba(train_x_onehotCoding)\n",
    "print('For values of best alpha = ', alpha[best_alpha], \"The train log loss is:\",log_loss(y_train, predict_y, labels=clf.classes_, eps=1e-15))\n",
    "predict_y = sig_clf.predict_proba(cv_x_onehotCoding)\n",
    "print('For values of best alpha = ', alpha[best_alpha], \"The cross validation log loss is:\",log_loss(y_cv, predict_y, labels=clf.classes_, eps=1e-15))\n",
    "predict_y = sig_clf.predict_proba(test_x_onehotCoding)\n",
    "print('For values of best alpha = ', alpha[best_alpha], \"The test log loss is:\",log_loss(y_test, predict_y, labels=clf.classes_, eps=1e-15))"
   ]
  },
  {
   "cell_type": "code",
   "execution_count": 336,
   "metadata": {},
   "outputs": [
    {
     "data": {
      "text/plain": [
       "<bound method BaseEstimator.get_params of CalibratedClassifierCV(base_estimator=SGDClassifier(alpha=0.01, average=False, class_weight='balanced',\n",
       "       early_stopping=False, epsilon=0.1, eta0=0.0, fit_intercept=True,\n",
       "       l1_ratio=0.15, learning_rate='optimal', loss='hinge', max_iter=None,\n",
       "       n_iter=None, n_iter_no_change=5, n_jobs=None, penalty='l2',\n",
       "       power_t=0.5, random_state=42, shuffle=True, tol=None,\n",
       "       validation_fraction=0.1, verbose=0, warm_start=False),\n",
       "            cv='warn', method='sigmoid')>"
      ]
     },
     "execution_count": 336,
     "metadata": {},
     "output_type": "execute_result"
    }
   ],
   "source": [
    "sig_clf.get_params"
   ]
  },
  {
   "cell_type": "markdown",
   "metadata": {},
   "source": [
    "## Random Forest Classifier (With Onehot Encoding)"
   ]
  },
  {
   "cell_type": "code",
   "execution_count": 337,
   "metadata": {},
   "outputs": [],
   "source": [
    "from sklearn.ensemble import RandomForestClassifier"
   ]
  },
  {
   "cell_type": "code",
   "execution_count": 339,
   "metadata": {},
   "outputs": [
    {
     "name": "stdout",
     "output_type": "stream",
     "text": [
      "Logg loss =  1.2473383364263193  at Max_depth =  5  and No of base_learners =  100\n",
      "Logg loss =  1.1938531924106026  at Max_depth =  10  and No of base_learners =  100\n",
      "Logg loss =  1.245205848434237  at Max_depth =  5  and No of base_learners =  200\n",
      "Logg loss =  1.1903654274216724  at Max_depth =  10  and No of base_learners =  200\n",
      "Logg loss =  1.2442697963584366  at Max_depth =  5  and No of base_learners =  500\n",
      "Logg loss =  1.1814622975251694  at Max_depth =  10  and No of base_learners =  500\n",
      "Logg loss =  1.2379356765803096  at Max_depth =  5  and No of base_learners =  1000\n",
      "Logg loss =  1.1761730356562223  at Max_depth =  10  and No of base_learners =  1000\n",
      "Logg loss =  1.2397806154277424  at Max_depth =  5  and No of base_learners =  2000\n",
      "Logg loss =  1.1733295762886249  at Max_depth =  10  and No of base_learners =  2000\n"
     ]
    }
   ],
   "source": [
    "base_learners = [100,200,500,1000,2000]\n",
    "tree_depth = [5,10]\n",
    "cv_log_error_array = []\n",
    "for base in base_learners:\n",
    "    for depth in tree_depth:\n",
    "            clf = RandomForestClassifier(n_estimators=base, criterion='gini', max_depth=depth, n_jobs=-1, random_state=42)\n",
    "            clf.fit(train_x_onehotCoding , y_train)\n",
    "            sig_clf = CalibratedClassifierCV(clf, method='sigmoid')\n",
    "            sig_clf.fit(train_x_onehotCoding, y_train)\n",
    "            sig_clf_probs = sig_clf.predict_proba(cv_x_onehotCoding)\n",
    "            cv_log_error_array.append(log_loss(cv_y, sig_clf_probs, labels=clf.classes_, eps=1e-15))"
   ]
  },
  {
   "cell_type": "code",
   "execution_count": 340,
   "metadata": {},
   "outputs": [
    {
     "name": "stdout",
     "output_type": "stream",
     "text": [
      "For values of best estimator =  2000 The train log loss is: 0.7236570293240685\n",
      "For values of best estimator =  2000 The cross validation log loss is: 1.1733295762886249\n",
      "For values of best estimator =  2000 The test log loss is: 1.1885092967243407\n"
     ]
    }
   ],
   "source": [
    "# trainning model with best hyperparameter\n",
    "# base_learners = 2000   , tree_depth = 10\n",
    "base_learners = 2000\n",
    "tree_depth = 10\n",
    "clf = RandomForestClassifier(n_estimators=2000 , criterion='gini', max_depth=10 , random_state=42, n_jobs=-1)\n",
    "clf.fit(train_x_onehotCoding, train_y)\n",
    "sig_clf = CalibratedClassifierCV(clf, method=\"sigmoid\")\n",
    "sig_clf.fit(train_x_onehotCoding, train_y)\n",
    "\n",
    "predict_y = sig_clf.predict_proba(train_x_onehotCoding)\n",
    "print('For values of best estimator = ', base_learners, \"The train log loss is:\",log_loss(y_train, predict_y, labels=clf.classes_, eps=1e-15))\n",
    "predict_y = sig_clf.predict_proba(cv_x_onehotCoding)\n",
    "print('For values of best estimator = ', base_learners, \"The cross validation log loss is:\",log_loss(y_cv, predict_y, labels=clf.classes_, eps=1e-15))\n",
    "predict_y = sig_clf.predict_proba(test_x_onehotCoding)\n",
    "print('For values of best estimator = ', base_learners, \"The test log loss is:\",log_loss(y_test, predict_y, labels=clf.classes_, eps=1e-15))"
   ]
  },
  {
   "cell_type": "markdown",
   "metadata": {},
   "source": [
    "## Stacking Ensamble"
   ]
  },
  {
   "cell_type": "code",
   "execution_count": 343,
   "metadata": {},
   "outputs": [],
   "source": [
    "from mlxtend.classifier import StackingClassifier\n",
    "from sklearn.linear_model import LogisticRegression"
   ]
  },
  {
   "cell_type": "code",
   "execution_count": 344,
   "metadata": {},
   "outputs": [
    {
     "name": "stdout",
     "output_type": "stream",
     "text": [
      "Logistic Regression :  Log Loss: 1.10\n",
      "Support vector machines : Log Loss: 1.75\n",
      "Naive Bayes : Log Loss: 1.30\n",
      "--------------------------------------------------\n",
      "Stacking Classifer : for the value of alpha: 0.000100 Log Loss: 2.179\n",
      "Stacking Classifer : for the value of alpha: 0.001000 Log Loss: 2.046\n",
      "Stacking Classifer : for the value of alpha: 0.010000 Log Loss: 1.557\n",
      "Stacking Classifer : for the value of alpha: 0.100000 Log Loss: 1.165\n",
      "Stacking Classifer : for the value of alpha: 1.000000 Log Loss: 1.236\n",
      "Stacking Classifer : for the value of alpha: 10.000000 Log Loss: 1.480\n"
     ]
    }
   ],
   "source": [
    "clf1 = SGDClassifier(alpha=0.001, penalty='l2', loss='log', class_weight='balanced', random_state=0)\n",
    "clf1.fit(train_x_onehotCoding, train_y)\n",
    "sig_clf1 = CalibratedClassifierCV(clf1, method=\"sigmoid\")\n",
    "sig_clf1.fit(train_x_onehotCoding, train_y)\n",
    "print(\"Logistic Regression :  Log Loss: %0.2f\" % (log_loss(cv_y, sig_clf1.predict_proba(cv_x_onehotCoding))))\n",
    "\n",
    "\n",
    "clf2 = SGDClassifier(alpha=1, penalty='l2', loss='hinge', class_weight='balanced', random_state=0)\n",
    "clf2.fit(train_x_onehotCoding, train_y)\n",
    "sig_clf2 = CalibratedClassifierCV(clf2, method=\"sigmoid\")\n",
    "sig_clf2.fit(train_x_onehotCoding, train_y)\n",
    "print(\"Support vector machines : Log Loss: %0.2f\" % (log_loss(cv_y, sig_clf2.predict_proba(cv_x_onehotCoding))))\n",
    "\n",
    "\n",
    "clf3 = MultinomialNB(alpha=0.001)\n",
    "clf3.fit(train_x_onehotCoding, train_y)\n",
    "sig_clf3 = CalibratedClassifierCV(clf3, method=\"sigmoid\")\n",
    "sig_clf3.fit(train_x_onehotCoding, train_y)\n",
    "print(\"Naive Bayes : Log Loss: %0.2f\" % (log_loss(cv_y, sig_clf3.predict_proba(cv_x_onehotCoding))))\n",
    "\n",
    "print(\"-\"*50)\n",
    "\n",
    "alpha = [0.0001,0.001,0.01,0.1,1,10] \n",
    "best_alpha = 999\n",
    "for i in alpha:\n",
    "    lr = LogisticRegression(C=i)\n",
    "    sclf = StackingClassifier(classifiers=[sig_clf1, sig_clf2, sig_clf3], meta_classifier=lr, use_probas=True)\n",
    "    sclf.fit(train_x_onehotCoding, train_y)\n",
    "    print(\"Stacking Classifer : for the value of alpha: %f Log Loss: %0.3f\" % (i, log_loss(cv_y, sclf.predict_proba(cv_x_onehotCoding))))\n",
    "    log_error =log_loss(cv_y, sclf.predict_proba(cv_x_onehotCoding))\n",
    "    if best_alpha > log_error:\n",
    "        best_alpha = log_error"
   ]
  },
  {
   "cell_type": "code",
   "execution_count": 346,
   "metadata": {},
   "outputs": [
    {
     "name": "stdout",
     "output_type": "stream",
     "text": [
      "Log loss (train) on the stacking classifier : 0.6925169651269207\n",
      "Log loss (CV) on the stacking classifier : 1.1647871909974135\n",
      "Log loss (test) on the stacking classifier : 1.122875556056284\n"
     ]
    }
   ],
   "source": [
    "lr = LogisticRegression(C=0.1)\n",
    "sclf = StackingClassifier(classifiers=[sig_clf1, sig_clf2, sig_clf3], meta_classifier=lr, use_probas=True)\n",
    "sclf.fit(train_x_onehotCoding, train_y)\n",
    "\n",
    "log_error = log_loss(train_y, sclf.predict_proba(train_x_onehotCoding))\n",
    "print(\"Log loss (train) on the stacking classifier :\",log_error)\n",
    "\n",
    "log_error = log_loss(cv_y, sclf.predict_proba(cv_x_onehotCoding))\n",
    "print(\"Log loss (CV) on the stacking classifier :\",log_error)\n",
    "\n",
    "log_error = log_loss(test_y, sclf.predict_proba(test_x_onehotCoding))\n",
    "print(\"Log loss (test) on the stacking classifier :\",log_error)"
   ]
  },
  {
   "cell_type": "code",
   "execution_count": null,
   "metadata": {},
   "outputs": [],
   "source": []
  },
  {
   "cell_type": "code",
   "execution_count": null,
   "metadata": {},
   "outputs": [],
   "source": []
  }
 ],
 "metadata": {
  "kernelspec": {
   "display_name": "Python 3",
   "language": "python",
   "name": "python3"
  },
  "language_info": {
   "codemirror_mode": {
    "name": "ipython",
    "version": 3
   },
   "file_extension": ".py",
   "mimetype": "text/x-python",
   "name": "python",
   "nbconvert_exporter": "python",
   "pygments_lexer": "ipython3",
   "version": "3.7.3"
  }
 },
 "nbformat": 4,
 "nbformat_minor": 2
}
